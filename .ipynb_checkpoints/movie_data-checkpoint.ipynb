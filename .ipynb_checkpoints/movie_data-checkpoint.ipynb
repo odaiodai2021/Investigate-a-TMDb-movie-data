{
 "cells": [
  {
   "cell_type": "markdown",
   "id": "cf8fec87",
   "metadata": {},
   "source": [
    "\n",
    "# Project: Investigate a [TMDb movie data](https://www.google.com/url?q=https://d17h27t6h515a5.cloudfront.net/topher/2017/October/59dd1c4c_tmdb-movies/tmdb-movies.csv&sa=D&ust=1532469042115000)\n",
    "\n",
    ">This project provide by **[Udacity](https://www.udacity.com/course/data-analyst-nanodegree--nd002)** for Data Analyst Nanoodegree Programe\n",
    "\n",
    "# Analyst by : *Odai Alsalieti*\n",
    "\n",
    "## Table of Contents\n",
    "<ul>\n",
    "<li><a href=\"#intro\">Introduction</a></li>\n",
    "<li><a href=\"#wrangling\">Data Wrangling</a></li>\n",
    "<li><a href=\"#eda\">Exploratory Data Analysis</a></li>\n",
    "<li><a href=\"#conclusions\">Conclusions</a></li>\n",
    "</ul>\n",
    "\n",
    "<a id=\"top\"></a>"
   ]
  },
  {
   "cell_type": "markdown",
   "id": "45119dcc",
   "metadata": {},
   "source": [
    "<a id='intro'></a>\n",
    "## Introduction\n",
    "> This data set contains information about 10,000 movies collected from The Movie Database (TMDb), including user ratings and revenue.\n",
    "\n",
    "To start Analysis we need to Answer these questions:\n",
    "\n",
    "<ol>\n",
    "    <li><a href=\"#q1\">Question 1: What is The most type of movies produced?</a></li>\n",
    "    <li><a href=\"#q2\">What are the highest-grossing movies?</a></li>\n",
    "    <li><a href=\"#q3\">What are the movies that got the most votes average?</a> </li>\n",
    "    <li><a href=\"#q4\">Is there any relationship between vote average and runtime of movies?</a></li>\n",
    "    <li><a href=\"#q5\">Is there any relation between popularity and runtime?</a></li>\n",
    "    <li><a href=\"#q6\">Is there any relation between popularity and vote_avg?</a></li>\n",
    "    <li><a href=\"#q7\">Question7: Is there any relation between budget and revenue?</a></li>\n",
    "</ol>\n",
    "\n",
    "\n",
    "\n"
   ]
  },
  {
   "cell_type": "code",
   "execution_count": 1,
   "id": "aafe00ec",
   "metadata": {
    "scrolled": false
   },
   "outputs": [],
   "source": [
    "# import statements for all of the packages\n",
    "import numpy as np\n",
    "import pandas as pd\n",
    "import seaborn as sns\n",
    "import matplotlib.pyplot as plt\n",
    "\n",
    "# using'magic word' so that your visualizations are plotted inline\n",
    "%matplotlib inline"
   ]
  },
  {
   "cell_type": "markdown",
   "id": "54932d12",
   "metadata": {},
   "source": [
    "<a id='wrangling'></a>\n",
    "## Data Wrangling"
   ]
  },
  {
   "cell_type": "markdown",
   "id": "00d64060",
   "metadata": {},
   "source": [
    "### General Properties"
   ]
  },
  {
   "cell_type": "code",
   "execution_count": 2,
   "id": "3f34a46c",
   "metadata": {},
   "outputs": [
    {
     "name": "stdout",
     "output_type": "stream",
     "text": [
      "(10866, 21)\n"
     ]
    },
    {
     "data": {
      "text/html": [
       "<div>\n",
       "<style scoped>\n",
       "    .dataframe tbody tr th:only-of-type {\n",
       "        vertical-align: middle;\n",
       "    }\n",
       "\n",
       "    .dataframe tbody tr th {\n",
       "        vertical-align: top;\n",
       "    }\n",
       "\n",
       "    .dataframe thead th {\n",
       "        text-align: right;\n",
       "    }\n",
       "</style>\n",
       "<table border=\"1\" class=\"dataframe\">\n",
       "  <thead>\n",
       "    <tr style=\"text-align: right;\">\n",
       "      <th></th>\n",
       "      <th>id</th>\n",
       "      <th>imdb_id</th>\n",
       "      <th>popularity</th>\n",
       "      <th>budget</th>\n",
       "      <th>revenue</th>\n",
       "      <th>original_title</th>\n",
       "      <th>cast</th>\n",
       "      <th>homepage</th>\n",
       "      <th>director</th>\n",
       "      <th>tagline</th>\n",
       "      <th>...</th>\n",
       "      <th>overview</th>\n",
       "      <th>runtime</th>\n",
       "      <th>genres</th>\n",
       "      <th>production_companies</th>\n",
       "      <th>release_date</th>\n",
       "      <th>vote_count</th>\n",
       "      <th>vote_average</th>\n",
       "      <th>release_year</th>\n",
       "      <th>budget_adj</th>\n",
       "      <th>revenue_adj</th>\n",
       "    </tr>\n",
       "  </thead>\n",
       "  <tbody>\n",
       "    <tr>\n",
       "      <th>0</th>\n",
       "      <td>135397</td>\n",
       "      <td>tt0369610</td>\n",
       "      <td>32.985763</td>\n",
       "      <td>150000000</td>\n",
       "      <td>1513528810</td>\n",
       "      <td>Jurassic World</td>\n",
       "      <td>Chris Pratt|Bryce Dallas Howard|Irrfan Khan|Vi...</td>\n",
       "      <td>http://www.jurassicworld.com/</td>\n",
       "      <td>Colin Trevorrow</td>\n",
       "      <td>The park is open.</td>\n",
       "      <td>...</td>\n",
       "      <td>Twenty-two years after the events of Jurassic ...</td>\n",
       "      <td>124</td>\n",
       "      <td>Action|Adventure|Science Fiction|Thriller</td>\n",
       "      <td>Universal Studios|Amblin Entertainment|Legenda...</td>\n",
       "      <td>6/9/15</td>\n",
       "      <td>5562</td>\n",
       "      <td>6.5</td>\n",
       "      <td>2015</td>\n",
       "      <td>1.379999e+08</td>\n",
       "      <td>1.392446e+09</td>\n",
       "    </tr>\n",
       "    <tr>\n",
       "      <th>1</th>\n",
       "      <td>76341</td>\n",
       "      <td>tt1392190</td>\n",
       "      <td>28.419936</td>\n",
       "      <td>150000000</td>\n",
       "      <td>378436354</td>\n",
       "      <td>Mad Max: Fury Road</td>\n",
       "      <td>Tom Hardy|Charlize Theron|Hugh Keays-Byrne|Nic...</td>\n",
       "      <td>http://www.madmaxmovie.com/</td>\n",
       "      <td>George Miller</td>\n",
       "      <td>What a Lovely Day.</td>\n",
       "      <td>...</td>\n",
       "      <td>An apocalyptic story set in the furthest reach...</td>\n",
       "      <td>120</td>\n",
       "      <td>Action|Adventure|Science Fiction|Thriller</td>\n",
       "      <td>Village Roadshow Pictures|Kennedy Miller Produ...</td>\n",
       "      <td>5/13/15</td>\n",
       "      <td>6185</td>\n",
       "      <td>7.1</td>\n",
       "      <td>2015</td>\n",
       "      <td>1.379999e+08</td>\n",
       "      <td>3.481613e+08</td>\n",
       "    </tr>\n",
       "  </tbody>\n",
       "</table>\n",
       "<p>2 rows × 21 columns</p>\n",
       "</div>"
      ],
      "text/plain": [
       "       id    imdb_id  popularity     budget     revenue      original_title  \\\n",
       "0  135397  tt0369610   32.985763  150000000  1513528810      Jurassic World   \n",
       "1   76341  tt1392190   28.419936  150000000   378436354  Mad Max: Fury Road   \n",
       "\n",
       "                                                cast  \\\n",
       "0  Chris Pratt|Bryce Dallas Howard|Irrfan Khan|Vi...   \n",
       "1  Tom Hardy|Charlize Theron|Hugh Keays-Byrne|Nic...   \n",
       "\n",
       "                        homepage         director             tagline  ...  \\\n",
       "0  http://www.jurassicworld.com/  Colin Trevorrow   The park is open.  ...   \n",
       "1    http://www.madmaxmovie.com/    George Miller  What a Lovely Day.  ...   \n",
       "\n",
       "                                            overview runtime  \\\n",
       "0  Twenty-two years after the events of Jurassic ...     124   \n",
       "1  An apocalyptic story set in the furthest reach...     120   \n",
       "\n",
       "                                      genres  \\\n",
       "0  Action|Adventure|Science Fiction|Thriller   \n",
       "1  Action|Adventure|Science Fiction|Thriller   \n",
       "\n",
       "                                production_companies release_date vote_count  \\\n",
       "0  Universal Studios|Amblin Entertainment|Legenda...       6/9/15       5562   \n",
       "1  Village Roadshow Pictures|Kennedy Miller Produ...      5/13/15       6185   \n",
       "\n",
       "   vote_average  release_year    budget_adj   revenue_adj  \n",
       "0           6.5          2015  1.379999e+08  1.392446e+09  \n",
       "1           7.1          2015  1.379999e+08  3.481613e+08  \n",
       "\n",
       "[2 rows x 21 columns]"
      ]
     },
     "execution_count": 2,
     "metadata": {},
     "output_type": "execute_result"
    }
   ],
   "source": [
    "# Load data\n",
    "df = pd.read_csv('movies.csv')\n",
    "print(df.shape)\n",
    "df.head(2)"
   ]
  },
  {
   "cell_type": "code",
   "execution_count": 3,
   "id": "b0eb8cd2",
   "metadata": {},
   "outputs": [
    {
     "name": "stdout",
     "output_type": "stream",
     "text": [
      "<class 'pandas.core.frame.DataFrame'>\n",
      "RangeIndex: 10866 entries, 0 to 10865\n",
      "Data columns (total 21 columns):\n",
      " #   Column                Non-Null Count  Dtype  \n",
      "---  ------                --------------  -----  \n",
      " 0   id                    10866 non-null  int64  \n",
      " 1   imdb_id               10856 non-null  object \n",
      " 2   popularity            10866 non-null  float64\n",
      " 3   budget                10866 non-null  int64  \n",
      " 4   revenue               10866 non-null  int64  \n",
      " 5   original_title        10866 non-null  object \n",
      " 6   cast                  10790 non-null  object \n",
      " 7   homepage              2936 non-null   object \n",
      " 8   director              10822 non-null  object \n",
      " 9   tagline               8042 non-null   object \n",
      " 10  keywords              9373 non-null   object \n",
      " 11  overview              10862 non-null  object \n",
      " 12  runtime               10866 non-null  int64  \n",
      " 13  genres                10843 non-null  object \n",
      " 14  production_companies  9836 non-null   object \n",
      " 15  release_date          10866 non-null  object \n",
      " 16  vote_count            10866 non-null  int64  \n",
      " 17  vote_average          10866 non-null  float64\n",
      " 18  release_year          10866 non-null  int64  \n",
      " 19  budget_adj            10866 non-null  float64\n",
      " 20  revenue_adj           10866 non-null  float64\n",
      "dtypes: float64(4), int64(6), object(11)\n",
      "memory usage: 1.7+ MB\n"
     ]
    }
   ],
   "source": [
    "df.info()"
   ]
  },
  {
   "cell_type": "markdown",
   "id": "28b0f87e",
   "metadata": {},
   "source": [
    "### Data Cleaning"
   ]
  },
  {
   "cell_type": "code",
   "execution_count": 4,
   "id": "ba077df9",
   "metadata": {},
   "outputs": [
    {
     "data": {
      "text/plain": [
       "1"
      ]
     },
     "execution_count": 4,
     "metadata": {},
     "output_type": "execute_result"
    }
   ],
   "source": [
    "#check duplicated\n",
    "df.duplicated().sum()"
   ]
  },
  {
   "cell_type": "markdown",
   "id": "02f00ccd",
   "metadata": {},
   "source": [
    ">Since the number of duplicates is one, it is okay to drop it"
   ]
  },
  {
   "cell_type": "code",
   "execution_count": 5,
   "id": "30e08c56",
   "metadata": {},
   "outputs": [],
   "source": [
    "#drop duplicated\n",
    "df.drop_duplicates(inplace=True)"
   ]
  },
  {
   "cell_type": "code",
   "execution_count": 6,
   "id": "41b148a9",
   "metadata": {},
   "outputs": [
    {
     "data": {
      "text/plain": [
       "0"
      ]
     },
     "execution_count": 6,
     "metadata": {},
     "output_type": "execute_result"
    }
   ],
   "source": [
    "# check if duplicate was droped \n",
    "df.duplicated().sum()"
   ]
  },
  {
   "cell_type": "code",
   "execution_count": 7,
   "id": "64e3a132",
   "metadata": {
    "scrolled": true
   },
   "outputs": [
    {
     "data": {
      "text/plain": [
       "id                         0\n",
       "imdb_id                   10\n",
       "popularity                 0\n",
       "budget                     0\n",
       "revenue                    0\n",
       "original_title             0\n",
       "cast                      76\n",
       "homepage                7929\n",
       "director                  44\n",
       "tagline                 2824\n",
       "keywords                1493\n",
       "overview                   4\n",
       "runtime                    0\n",
       "genres                    23\n",
       "production_companies    1030\n",
       "release_date               0\n",
       "vote_count                 0\n",
       "vote_average               0\n",
       "release_year               0\n",
       "budget_adj                 0\n",
       "revenue_adj                0\n",
       "dtype: int64"
      ]
     },
     "execution_count": 7,
     "metadata": {},
     "output_type": "execute_result"
    }
   ],
   "source": [
    "#check null values\n",
    "df.isnull().sum()"
   ]
  },
  {
   "cell_type": "markdown",
   "id": "8aee2c61",
   "metadata": {},
   "source": [
    ">in the column genre I notice that the values was separated by '|', so i will split them and take 1st value then drop the other using:\n",
    "[Split column by delimiter into multiple columns](https://datascienceparichay.com/article/pandas-split-column-by-delimiter/)"
   ]
  },
  {
   "cell_type": "code",
   "execution_count": 8,
   "id": "23193451",
   "metadata": {},
   "outputs": [
    {
     "data": {
      "text/html": [
       "<div>\n",
       "<style scoped>\n",
       "    .dataframe tbody tr th:only-of-type {\n",
       "        vertical-align: middle;\n",
       "    }\n",
       "\n",
       "    .dataframe tbody tr th {\n",
       "        vertical-align: top;\n",
       "    }\n",
       "\n",
       "    .dataframe thead th {\n",
       "        text-align: right;\n",
       "    }\n",
       "</style>\n",
       "<table border=\"1\" class=\"dataframe\">\n",
       "  <thead>\n",
       "    <tr style=\"text-align: right;\">\n",
       "      <th></th>\n",
       "      <th>id</th>\n",
       "      <th>imdb_id</th>\n",
       "      <th>popularity</th>\n",
       "      <th>budget</th>\n",
       "      <th>revenue</th>\n",
       "      <th>original_title</th>\n",
       "      <th>cast</th>\n",
       "      <th>homepage</th>\n",
       "      <th>director</th>\n",
       "      <th>tagline</th>\n",
       "      <th>...</th>\n",
       "      <th>vote_count</th>\n",
       "      <th>vote_average</th>\n",
       "      <th>release_year</th>\n",
       "      <th>budget_adj</th>\n",
       "      <th>revenue_adj</th>\n",
       "      <th>genre</th>\n",
       "      <th>genres2</th>\n",
       "      <th>genres3</th>\n",
       "      <th>genres4</th>\n",
       "      <th>genres5</th>\n",
       "    </tr>\n",
       "  </thead>\n",
       "  <tbody>\n",
       "    <tr>\n",
       "      <th>0</th>\n",
       "      <td>135397</td>\n",
       "      <td>tt0369610</td>\n",
       "      <td>32.985763</td>\n",
       "      <td>150000000</td>\n",
       "      <td>1513528810</td>\n",
       "      <td>Jurassic World</td>\n",
       "      <td>Chris Pratt|Bryce Dallas Howard|Irrfan Khan|Vi...</td>\n",
       "      <td>http://www.jurassicworld.com/</td>\n",
       "      <td>Colin Trevorrow</td>\n",
       "      <td>The park is open.</td>\n",
       "      <td>...</td>\n",
       "      <td>5562</td>\n",
       "      <td>6.5</td>\n",
       "      <td>2015</td>\n",
       "      <td>1.379999e+08</td>\n",
       "      <td>1.392446e+09</td>\n",
       "      <td>Action</td>\n",
       "      <td>Adventure</td>\n",
       "      <td>Science Fiction</td>\n",
       "      <td>Thriller</td>\n",
       "      <td>None</td>\n",
       "    </tr>\n",
       "    <tr>\n",
       "      <th>1</th>\n",
       "      <td>76341</td>\n",
       "      <td>tt1392190</td>\n",
       "      <td>28.419936</td>\n",
       "      <td>150000000</td>\n",
       "      <td>378436354</td>\n",
       "      <td>Mad Max: Fury Road</td>\n",
       "      <td>Tom Hardy|Charlize Theron|Hugh Keays-Byrne|Nic...</td>\n",
       "      <td>http://www.madmaxmovie.com/</td>\n",
       "      <td>George Miller</td>\n",
       "      <td>What a Lovely Day.</td>\n",
       "      <td>...</td>\n",
       "      <td>6185</td>\n",
       "      <td>7.1</td>\n",
       "      <td>2015</td>\n",
       "      <td>1.379999e+08</td>\n",
       "      <td>3.481613e+08</td>\n",
       "      <td>Action</td>\n",
       "      <td>Adventure</td>\n",
       "      <td>Science Fiction</td>\n",
       "      <td>Thriller</td>\n",
       "      <td>None</td>\n",
       "    </tr>\n",
       "    <tr>\n",
       "      <th>2</th>\n",
       "      <td>262500</td>\n",
       "      <td>tt2908446</td>\n",
       "      <td>13.112507</td>\n",
       "      <td>110000000</td>\n",
       "      <td>295238201</td>\n",
       "      <td>Insurgent</td>\n",
       "      <td>Shailene Woodley|Theo James|Kate Winslet|Ansel...</td>\n",
       "      <td>http://www.thedivergentseries.movie/#insurgent</td>\n",
       "      <td>Robert Schwentke</td>\n",
       "      <td>One Choice Can Destroy You</td>\n",
       "      <td>...</td>\n",
       "      <td>2480</td>\n",
       "      <td>6.3</td>\n",
       "      <td>2015</td>\n",
       "      <td>1.012000e+08</td>\n",
       "      <td>2.716190e+08</td>\n",
       "      <td>Adventure</td>\n",
       "      <td>Science Fiction</td>\n",
       "      <td>Thriller</td>\n",
       "      <td>None</td>\n",
       "      <td>None</td>\n",
       "    </tr>\n",
       "    <tr>\n",
       "      <th>3</th>\n",
       "      <td>140607</td>\n",
       "      <td>tt2488496</td>\n",
       "      <td>11.173104</td>\n",
       "      <td>200000000</td>\n",
       "      <td>2068178225</td>\n",
       "      <td>Star Wars: The Force Awakens</td>\n",
       "      <td>Harrison Ford|Mark Hamill|Carrie Fisher|Adam D...</td>\n",
       "      <td>http://www.starwars.com/films/star-wars-episod...</td>\n",
       "      <td>J.J. Abrams</td>\n",
       "      <td>Every generation has a story.</td>\n",
       "      <td>...</td>\n",
       "      <td>5292</td>\n",
       "      <td>7.5</td>\n",
       "      <td>2015</td>\n",
       "      <td>1.839999e+08</td>\n",
       "      <td>1.902723e+09</td>\n",
       "      <td>Action</td>\n",
       "      <td>Adventure</td>\n",
       "      <td>Science Fiction</td>\n",
       "      <td>Fantasy</td>\n",
       "      <td>None</td>\n",
       "    </tr>\n",
       "    <tr>\n",
       "      <th>4</th>\n",
       "      <td>168259</td>\n",
       "      <td>tt2820852</td>\n",
       "      <td>9.335014</td>\n",
       "      <td>190000000</td>\n",
       "      <td>1506249360</td>\n",
       "      <td>Furious 7</td>\n",
       "      <td>Vin Diesel|Paul Walker|Jason Statham|Michelle ...</td>\n",
       "      <td>http://www.furious7.com/</td>\n",
       "      <td>James Wan</td>\n",
       "      <td>Vengeance Hits Home</td>\n",
       "      <td>...</td>\n",
       "      <td>2947</td>\n",
       "      <td>7.3</td>\n",
       "      <td>2015</td>\n",
       "      <td>1.747999e+08</td>\n",
       "      <td>1.385749e+09</td>\n",
       "      <td>Action</td>\n",
       "      <td>Crime</td>\n",
       "      <td>Thriller</td>\n",
       "      <td>None</td>\n",
       "      <td>None</td>\n",
       "    </tr>\n",
       "  </tbody>\n",
       "</table>\n",
       "<p>5 rows × 26 columns</p>\n",
       "</div>"
      ],
      "text/plain": [
       "       id    imdb_id  popularity     budget     revenue  \\\n",
       "0  135397  tt0369610   32.985763  150000000  1513528810   \n",
       "1   76341  tt1392190   28.419936  150000000   378436354   \n",
       "2  262500  tt2908446   13.112507  110000000   295238201   \n",
       "3  140607  tt2488496   11.173104  200000000  2068178225   \n",
       "4  168259  tt2820852    9.335014  190000000  1506249360   \n",
       "\n",
       "                 original_title  \\\n",
       "0                Jurassic World   \n",
       "1            Mad Max: Fury Road   \n",
       "2                     Insurgent   \n",
       "3  Star Wars: The Force Awakens   \n",
       "4                     Furious 7   \n",
       "\n",
       "                                                cast  \\\n",
       "0  Chris Pratt|Bryce Dallas Howard|Irrfan Khan|Vi...   \n",
       "1  Tom Hardy|Charlize Theron|Hugh Keays-Byrne|Nic...   \n",
       "2  Shailene Woodley|Theo James|Kate Winslet|Ansel...   \n",
       "3  Harrison Ford|Mark Hamill|Carrie Fisher|Adam D...   \n",
       "4  Vin Diesel|Paul Walker|Jason Statham|Michelle ...   \n",
       "\n",
       "                                            homepage          director  \\\n",
       "0                      http://www.jurassicworld.com/   Colin Trevorrow   \n",
       "1                        http://www.madmaxmovie.com/     George Miller   \n",
       "2     http://www.thedivergentseries.movie/#insurgent  Robert Schwentke   \n",
       "3  http://www.starwars.com/films/star-wars-episod...       J.J. Abrams   \n",
       "4                           http://www.furious7.com/         James Wan   \n",
       "\n",
       "                         tagline  ... vote_count vote_average  release_year  \\\n",
       "0              The park is open.  ...       5562          6.5          2015   \n",
       "1             What a Lovely Day.  ...       6185          7.1          2015   \n",
       "2     One Choice Can Destroy You  ...       2480          6.3          2015   \n",
       "3  Every generation has a story.  ...       5292          7.5          2015   \n",
       "4            Vengeance Hits Home  ...       2947          7.3          2015   \n",
       "\n",
       "     budget_adj   revenue_adj      genre          genres2          genres3  \\\n",
       "0  1.379999e+08  1.392446e+09     Action        Adventure  Science Fiction   \n",
       "1  1.379999e+08  3.481613e+08     Action        Adventure  Science Fiction   \n",
       "2  1.012000e+08  2.716190e+08  Adventure  Science Fiction         Thriller   \n",
       "3  1.839999e+08  1.902723e+09     Action        Adventure  Science Fiction   \n",
       "4  1.747999e+08  1.385749e+09     Action            Crime         Thriller   \n",
       "\n",
       "    genres4  genres5  \n",
       "0  Thriller     None  \n",
       "1  Thriller     None  \n",
       "2      None     None  \n",
       "3   Fantasy     None  \n",
       "4      None     None  \n",
       "\n",
       "[5 rows x 26 columns]"
      ]
     },
     "execution_count": 8,
     "metadata": {},
     "output_type": "execute_result"
    }
   ],
   "source": [
    "#split genre content\n",
    "df[['genre','genres2','genres3','genres4','genres5']] = df['genres'].str.split('|', expand=True)\n",
    "df.head()"
   ]
  },
  {
   "cell_type": "code",
   "execution_count": 9,
   "id": "3864eb21",
   "metadata": {},
   "outputs": [],
   "source": [
    "#Drop coulmns that i don't need in my analysis\n",
    "data = [\n",
    "    'id',\n",
    "    'release_date',\n",
    "    'release_year',\n",
    "    'director',\n",
    "    'production_companies',\n",
    "    'homepage',\n",
    "    'tagline',\n",
    "    'keywords',\n",
    "    'imdb_id',\n",
    "    'overview',\n",
    "    'vote_count',\n",
    "    'cast',\n",
    "    'genres',\n",
    "    'genres2',\n",
    "    'genres3',\n",
    "    'genres4',\n",
    "    'genres5',\n",
    "    'budget_adj',\n",
    "    'revenue_adj'\n",
    "]\n",
    "\n",
    "df.drop(columns=data, axis=1, inplace=True)"
   ]
  },
  {
   "cell_type": "code",
   "execution_count": 10,
   "id": "258bdfee",
   "metadata": {},
   "outputs": [
    {
     "name": "stdout",
     "output_type": "stream",
     "text": [
      "(10842, 7)\n"
     ]
    },
    {
     "data": {
      "text/html": [
       "<div>\n",
       "<style scoped>\n",
       "    .dataframe tbody tr th:only-of-type {\n",
       "        vertical-align: middle;\n",
       "    }\n",
       "\n",
       "    .dataframe tbody tr th {\n",
       "        vertical-align: top;\n",
       "    }\n",
       "\n",
       "    .dataframe thead th {\n",
       "        text-align: right;\n",
       "    }\n",
       "</style>\n",
       "<table border=\"1\" class=\"dataframe\">\n",
       "  <thead>\n",
       "    <tr style=\"text-align: right;\">\n",
       "      <th></th>\n",
       "      <th>popularity</th>\n",
       "      <th>budget</th>\n",
       "      <th>revenue</th>\n",
       "      <th>original_title</th>\n",
       "      <th>runtime</th>\n",
       "      <th>vote_average</th>\n",
       "      <th>genre</th>\n",
       "    </tr>\n",
       "  </thead>\n",
       "  <tbody>\n",
       "    <tr>\n",
       "      <th>0</th>\n",
       "      <td>32.985763</td>\n",
       "      <td>150000000</td>\n",
       "      <td>1513528810</td>\n",
       "      <td>Jurassic World</td>\n",
       "      <td>124</td>\n",
       "      <td>6.5</td>\n",
       "      <td>Action</td>\n",
       "    </tr>\n",
       "    <tr>\n",
       "      <th>1</th>\n",
       "      <td>28.419936</td>\n",
       "      <td>150000000</td>\n",
       "      <td>378436354</td>\n",
       "      <td>Mad Max: Fury Road</td>\n",
       "      <td>120</td>\n",
       "      <td>7.1</td>\n",
       "      <td>Action</td>\n",
       "    </tr>\n",
       "    <tr>\n",
       "      <th>2</th>\n",
       "      <td>13.112507</td>\n",
       "      <td>110000000</td>\n",
       "      <td>295238201</td>\n",
       "      <td>Insurgent</td>\n",
       "      <td>119</td>\n",
       "      <td>6.3</td>\n",
       "      <td>Adventure</td>\n",
       "    </tr>\n",
       "    <tr>\n",
       "      <th>3</th>\n",
       "      <td>11.173104</td>\n",
       "      <td>200000000</td>\n",
       "      <td>2068178225</td>\n",
       "      <td>Star Wars: The Force Awakens</td>\n",
       "      <td>136</td>\n",
       "      <td>7.5</td>\n",
       "      <td>Action</td>\n",
       "    </tr>\n",
       "    <tr>\n",
       "      <th>4</th>\n",
       "      <td>9.335014</td>\n",
       "      <td>190000000</td>\n",
       "      <td>1506249360</td>\n",
       "      <td>Furious 7</td>\n",
       "      <td>137</td>\n",
       "      <td>7.3</td>\n",
       "      <td>Action</td>\n",
       "    </tr>\n",
       "  </tbody>\n",
       "</table>\n",
       "</div>"
      ],
      "text/plain": [
       "   popularity     budget     revenue                original_title  runtime  \\\n",
       "0   32.985763  150000000  1513528810                Jurassic World      124   \n",
       "1   28.419936  150000000   378436354            Mad Max: Fury Road      120   \n",
       "2   13.112507  110000000   295238201                     Insurgent      119   \n",
       "3   11.173104  200000000  2068178225  Star Wars: The Force Awakens      136   \n",
       "4    9.335014  190000000  1506249360                     Furious 7      137   \n",
       "\n",
       "   vote_average      genre  \n",
       "0           6.5     Action  \n",
       "1           7.1     Action  \n",
       "2           6.3  Adventure  \n",
       "3           7.5     Action  \n",
       "4           7.3     Action  "
      ]
     },
     "execution_count": 10,
     "metadata": {},
     "output_type": "execute_result"
    }
   ],
   "source": [
    "# drop nan value\n",
    "df.dropna(inplace=True)\n",
    "print(df.shape)\n",
    "df.head()"
   ]
  },
  {
   "cell_type": "code",
   "execution_count": 11,
   "id": "2980459c",
   "metadata": {
    "scrolled": true
   },
   "outputs": [
    {
     "data": {
      "text/plain": [
       "popularity        0\n",
       "budget            0\n",
       "revenue           0\n",
       "original_title    0\n",
       "runtime           0\n",
       "vote_average      0\n",
       "genre             0\n",
       "dtype: int64"
      ]
     },
     "execution_count": 11,
     "metadata": {},
     "output_type": "execute_result"
    }
   ],
   "source": [
    "df.isnull().sum()"
   ]
  },
  {
   "cell_type": "code",
   "execution_count": 12,
   "id": "39c7382d",
   "metadata": {},
   "outputs": [
    {
     "data": {
      "text/html": [
       "<div>\n",
       "<style scoped>\n",
       "    .dataframe tbody tr th:only-of-type {\n",
       "        vertical-align: middle;\n",
       "    }\n",
       "\n",
       "    .dataframe tbody tr th {\n",
       "        vertical-align: top;\n",
       "    }\n",
       "\n",
       "    .dataframe thead th {\n",
       "        text-align: right;\n",
       "    }\n",
       "</style>\n",
       "<table border=\"1\" class=\"dataframe\">\n",
       "  <thead>\n",
       "    <tr style=\"text-align: right;\">\n",
       "      <th></th>\n",
       "      <th>popularity</th>\n",
       "      <th>budget</th>\n",
       "      <th>revenue</th>\n",
       "      <th>runtime</th>\n",
       "      <th>vote_average</th>\n",
       "    </tr>\n",
       "  </thead>\n",
       "  <tbody>\n",
       "    <tr>\n",
       "      <th>count</th>\n",
       "      <td>10842.000000</td>\n",
       "      <td>1.084200e+04</td>\n",
       "      <td>1.084200e+04</td>\n",
       "      <td>10842.000000</td>\n",
       "      <td>10842.000000</td>\n",
       "    </tr>\n",
       "    <tr>\n",
       "      <th>mean</th>\n",
       "      <td>0.647461</td>\n",
       "      <td>1.465531e+07</td>\n",
       "      <td>3.991138e+07</td>\n",
       "      <td>102.138443</td>\n",
       "      <td>5.974064</td>\n",
       "    </tr>\n",
       "    <tr>\n",
       "      <th>std</th>\n",
       "      <td>1.001032</td>\n",
       "      <td>3.093971e+07</td>\n",
       "      <td>1.171179e+08</td>\n",
       "      <td>31.294612</td>\n",
       "      <td>0.934257</td>\n",
       "    </tr>\n",
       "    <tr>\n",
       "      <th>min</th>\n",
       "      <td>0.000065</td>\n",
       "      <td>0.000000e+00</td>\n",
       "      <td>0.000000e+00</td>\n",
       "      <td>0.000000</td>\n",
       "      <td>1.500000</td>\n",
       "    </tr>\n",
       "    <tr>\n",
       "      <th>25%</th>\n",
       "      <td>0.208210</td>\n",
       "      <td>0.000000e+00</td>\n",
       "      <td>0.000000e+00</td>\n",
       "      <td>90.000000</td>\n",
       "      <td>5.400000</td>\n",
       "    </tr>\n",
       "    <tr>\n",
       "      <th>50%</th>\n",
       "      <td>0.384532</td>\n",
       "      <td>0.000000e+00</td>\n",
       "      <td>0.000000e+00</td>\n",
       "      <td>99.000000</td>\n",
       "      <td>6.000000</td>\n",
       "    </tr>\n",
       "    <tr>\n",
       "      <th>75%</th>\n",
       "      <td>0.715393</td>\n",
       "      <td>1.500000e+07</td>\n",
       "      <td>2.414118e+07</td>\n",
       "      <td>111.000000</td>\n",
       "      <td>6.600000</td>\n",
       "    </tr>\n",
       "    <tr>\n",
       "      <th>max</th>\n",
       "      <td>32.985763</td>\n",
       "      <td>4.250000e+08</td>\n",
       "      <td>2.781506e+09</td>\n",
       "      <td>900.000000</td>\n",
       "      <td>9.200000</td>\n",
       "    </tr>\n",
       "  </tbody>\n",
       "</table>\n",
       "</div>"
      ],
      "text/plain": [
       "         popularity        budget       revenue       runtime  vote_average\n",
       "count  10842.000000  1.084200e+04  1.084200e+04  10842.000000  10842.000000\n",
       "mean       0.647461  1.465531e+07  3.991138e+07    102.138443      5.974064\n",
       "std        1.001032  3.093971e+07  1.171179e+08     31.294612      0.934257\n",
       "min        0.000065  0.000000e+00  0.000000e+00      0.000000      1.500000\n",
       "25%        0.208210  0.000000e+00  0.000000e+00     90.000000      5.400000\n",
       "50%        0.384532  0.000000e+00  0.000000e+00     99.000000      6.000000\n",
       "75%        0.715393  1.500000e+07  2.414118e+07    111.000000      6.600000\n",
       "max       32.985763  4.250000e+08  2.781506e+09    900.000000      9.200000"
      ]
     },
     "execution_count": 12,
     "metadata": {},
     "output_type": "execute_result"
    }
   ],
   "source": [
    "df.describe()"
   ]
  },
  {
   "cell_type": "code",
   "execution_count": 13,
   "id": "5170a55a",
   "metadata": {},
   "outputs": [
    {
     "data": {
      "image/png": "[encoded data removed]",
      "text/plain": [
       "<Figure size 576x576 with 6 Axes>"
      ]
     },
     "metadata": {
      "needs_background": "light"
     },
     "output_type": "display_data"
    }
   ],
   "source": [
    "#plot all data values\n",
    "df.hist(\n",
    "    figsize=(8,8)\n",
    ");"
   ]
  },
  {
   "cell_type": "markdown",
   "id": "29bcdca1",
   "metadata": {},
   "source": [
    "<a id='eda'></a>\n",
    "## Exploratory Data Analysis\n",
    "\n",
    "> Here we Answer the questions posed in introduction"
   ]
  },
  {
   "cell_type": "markdown",
   "id": "4a3f0265",
   "metadata": {},
   "source": [
    "<h1><a id='q1'>Question 1: What is The most type of movies produced?</a> </h1>"
   ]
  },
  {
   "cell_type": "markdown",
   "id": "6a75841b",
   "metadata": {},
   "source": [
    "> First i count genre value then plot it for better vision"
   ]
  },
  {
   "cell_type": "code",
   "execution_count": 14,
   "id": "6528da94",
   "metadata": {},
   "outputs": [
    {
     "data": {
      "image/png": "[encoded data removed]",
      "text/plain": [
       "<Figure size 720x360 with 1 Axes>"
      ]
     },
     "metadata": {
      "needs_background": "light"
     },
     "output_type": "display_data"
    }
   ],
   "source": [
    "# count genre value\n",
    "genre = df['genre'].value_counts()\n",
    "# plot genre value to check the most type produced\n",
    "genre.plot(\n",
    "    title='The most type of films produced',\n",
    "    kind='bar',\n",
    "    color='#000',\n",
    "    xlabel='genre',\n",
    "    ylabel='Count type of films',\n",
    "    legend = 'genre',\n",
    "    figsize = (10,5)\n",
    ");\n"
   ]
  },
  {
   "cell_type": "markdown",
   "id": "be94a257",
   "metadata": {},
   "source": [
    "# Answer question1: The 10 most type of movies produced\n",
    "FRom the plot we realase that:\n",
    "\n",
    "    - Drama              876\n",
    "    - Comedy             775\n",
    "    - Action             684\n",
    "    - Adventure          312\n",
    "    - Horror             272\n",
    "    - Crime              171\n",
    "    - Thriller           160\n",
    "    - Fantasy            109\n",
    "    - Animation          101"
   ]
  },
  {
   "cell_type": "markdown",
   "id": "2227e669",
   "metadata": {},
   "source": [
    "<a href='#top'>Go to Top of page ^ </a>"
   ]
  },
  {
   "cell_type": "markdown",
   "id": "2083d33a",
   "metadata": {},
   "source": [
    "<h1><a id='q2'>Question 2: What are the highest-grossing movies?</a></h1>\n"
   ]
  },
  {
   "cell_type": "markdown",
   "id": "71e56dcf",
   "metadata": {},
   "source": [
    "> First I check if there are 0 value in: budget, revenue, runtime"
   ]
  },
  {
   "cell_type": "code",
   "execution_count": 15,
   "id": "5dc67d47",
   "metadata": {},
   "outputs": [
    {
     "data": {
      "text/plain": [
       "(5674, 7)"
      ]
     },
     "execution_count": 15,
     "metadata": {},
     "output_type": "execute_result"
    }
   ],
   "source": [
    "#check for 0 value in budget col\n",
    "df[df['budget']== 0].shape"
   ]
  },
  {
   "cell_type": "code",
   "execution_count": 16,
   "id": "ac82a546",
   "metadata": {},
   "outputs": [
    {
     "data": {
      "text/plain": [
       "(5993, 7)"
      ]
     },
     "execution_count": 16,
     "metadata": {},
     "output_type": "execute_result"
    }
   ],
   "source": [
    "#check for 0 value in revenue col\n",
    "df[df['revenue']==0].shape"
   ]
  },
  {
   "cell_type": "code",
   "execution_count": 17,
   "id": "7e9a07f6",
   "metadata": {
    "scrolled": true
   },
   "outputs": [
    {
     "data": {
      "text/plain": [
       "(30, 7)"
      ]
     },
     "execution_count": 17,
     "metadata": {},
     "output_type": "execute_result"
    }
   ],
   "source": [
    "#check for 0 value in runtime col\n",
    "df[df['runtime']==0].shape"
   ]
  },
  {
   "cell_type": "markdown",
   "id": "51bc8118",
   "metadata": {},
   "source": [
    ">There are some movies that have not recorded their budget, revenue, or even their runtime\n",
    "In order for the comparison to be fair, we must drop the NaN values so I [Replace 0 with NaN](https://stackoverflow.com/questions/49575897/cant-replace-0-to-nan-in-python-using-pandas/49576082) to drop it\n",
    "\n"
   ]
  },
  {
   "cell_type": "code",
   "execution_count": 18,
   "id": "4fbfd93c",
   "metadata": {},
   "outputs": [],
   "source": [
    "#Replace 0 with NaN\n",
    "df.replace(0, np.nan, inplace=True)"
   ]
  },
  {
   "cell_type": "code",
   "execution_count": 19,
   "id": "c97e2e98",
   "metadata": {},
   "outputs": [
    {
     "data": {
      "text/plain": [
       "popularity           0\n",
       "budget            5674\n",
       "revenue           5993\n",
       "original_title       0\n",
       "runtime             30\n",
       "vote_average         0\n",
       "genre                0\n",
       "dtype: int64"
      ]
     },
     "execution_count": 19,
     "metadata": {},
     "output_type": "execute_result"
    }
   ],
   "source": [
    "# check if they replaced by NaN\n",
    "df.isnull().sum()"
   ]
  },
  {
   "cell_type": "code",
   "execution_count": 20,
   "id": "62f20b7a",
   "metadata": {},
   "outputs": [],
   "source": [
    "#drop all NaN value\n",
    "df_dropna = df.dropna()"
   ]
  },
  {
   "cell_type": "markdown",
   "id": "a81c8b3e",
   "metadata": {},
   "source": [
    "To Avoid this error\n",
    "\n",
    ">SettingWithCopyWarning: \n",
    "A value is trying to be set on a copy of a slice from a DataFrame.\n",
    "Try using .loc[row_indexer,col_indexer] = value instead\n",
    "\n",
    "i saved a copy of droped in new csv file"
   ]
  },
  {
   "cell_type": "code",
   "execution_count": 21,
   "id": "c61205fe",
   "metadata": {},
   "outputs": [],
   "source": [
    "# save new dataframe\n",
    "df_dropna.to_csv('df_movies_droped.csv',index = False)\n",
    "df_drp = pd.read_csv('df_movies_droped.csv')"
   ]
  },
  {
   "cell_type": "code",
   "execution_count": 22,
   "id": "e0b3b8d0",
   "metadata": {},
   "outputs": [
    {
     "name": "stdout",
     "output_type": "stream",
     "text": [
      "(3854, 7)\n"
     ]
    },
    {
     "data": {
      "text/html": [
       "<div>\n",
       "<style scoped>\n",
       "    .dataframe tbody tr th:only-of-type {\n",
       "        vertical-align: middle;\n",
       "    }\n",
       "\n",
       "    .dataframe tbody tr th {\n",
       "        vertical-align: top;\n",
       "    }\n",
       "\n",
       "    .dataframe thead th {\n",
       "        text-align: right;\n",
       "    }\n",
       "</style>\n",
       "<table border=\"1\" class=\"dataframe\">\n",
       "  <thead>\n",
       "    <tr style=\"text-align: right;\">\n",
       "      <th></th>\n",
       "      <th>popularity</th>\n",
       "      <th>budget</th>\n",
       "      <th>revenue</th>\n",
       "      <th>original_title</th>\n",
       "      <th>runtime</th>\n",
       "      <th>vote_average</th>\n",
       "      <th>genre</th>\n",
       "    </tr>\n",
       "  </thead>\n",
       "  <tbody>\n",
       "    <tr>\n",
       "      <th>0</th>\n",
       "      <td>32.985763</td>\n",
       "      <td>150000000.0</td>\n",
       "      <td>1.513529e+09</td>\n",
       "      <td>Jurassic World</td>\n",
       "      <td>124.0</td>\n",
       "      <td>6.5</td>\n",
       "      <td>Action</td>\n",
       "    </tr>\n",
       "    <tr>\n",
       "      <th>1</th>\n",
       "      <td>28.419936</td>\n",
       "      <td>150000000.0</td>\n",
       "      <td>3.784364e+08</td>\n",
       "      <td>Mad Max: Fury Road</td>\n",
       "      <td>120.0</td>\n",
       "      <td>7.1</td>\n",
       "      <td>Action</td>\n",
       "    </tr>\n",
       "    <tr>\n",
       "      <th>2</th>\n",
       "      <td>13.112507</td>\n",
       "      <td>110000000.0</td>\n",
       "      <td>2.952382e+08</td>\n",
       "      <td>Insurgent</td>\n",
       "      <td>119.0</td>\n",
       "      <td>6.3</td>\n",
       "      <td>Adventure</td>\n",
       "    </tr>\n",
       "    <tr>\n",
       "      <th>3</th>\n",
       "      <td>11.173104</td>\n",
       "      <td>200000000.0</td>\n",
       "      <td>2.068178e+09</td>\n",
       "      <td>Star Wars: The Force Awakens</td>\n",
       "      <td>136.0</td>\n",
       "      <td>7.5</td>\n",
       "      <td>Action</td>\n",
       "    </tr>\n",
       "    <tr>\n",
       "      <th>4</th>\n",
       "      <td>9.335014</td>\n",
       "      <td>190000000.0</td>\n",
       "      <td>1.506249e+09</td>\n",
       "      <td>Furious 7</td>\n",
       "      <td>137.0</td>\n",
       "      <td>7.3</td>\n",
       "      <td>Action</td>\n",
       "    </tr>\n",
       "  </tbody>\n",
       "</table>\n",
       "</div>"
      ],
      "text/plain": [
       "   popularity       budget       revenue                original_title  \\\n",
       "0   32.985763  150000000.0  1.513529e+09                Jurassic World   \n",
       "1   28.419936  150000000.0  3.784364e+08            Mad Max: Fury Road   \n",
       "2   13.112507  110000000.0  2.952382e+08                     Insurgent   \n",
       "3   11.173104  200000000.0  2.068178e+09  Star Wars: The Force Awakens   \n",
       "4    9.335014  190000000.0  1.506249e+09                     Furious 7   \n",
       "\n",
       "   runtime  vote_average      genre  \n",
       "0    124.0           6.5     Action  \n",
       "1    120.0           7.1     Action  \n",
       "2    119.0           6.3  Adventure  \n",
       "3    136.0           7.5     Action  \n",
       "4    137.0           7.3     Action  "
      ]
     },
     "execution_count": 22,
     "metadata": {},
     "output_type": "execute_result"
    }
   ],
   "source": [
    "# check new dataframe df_drp\n",
    "print(df_drp.shape)\n",
    "df_drp.head()"
   ]
  },
  {
   "cell_type": "code",
   "execution_count": 23,
   "id": "902a9086",
   "metadata": {},
   "outputs": [
    {
     "data": {
      "text/html": [
       "<div>\n",
       "<style scoped>\n",
       "    .dataframe tbody tr th:only-of-type {\n",
       "        vertical-align: middle;\n",
       "    }\n",
       "\n",
       "    .dataframe tbody tr th {\n",
       "        vertical-align: top;\n",
       "    }\n",
       "\n",
       "    .dataframe thead th {\n",
       "        text-align: right;\n",
       "    }\n",
       "</style>\n",
       "<table border=\"1\" class=\"dataframe\">\n",
       "  <thead>\n",
       "    <tr style=\"text-align: right;\">\n",
       "      <th></th>\n",
       "      <th>popularity</th>\n",
       "      <th>budget</th>\n",
       "      <th>revenue</th>\n",
       "      <th>runtime</th>\n",
       "      <th>vote_average</th>\n",
       "    </tr>\n",
       "  </thead>\n",
       "  <tbody>\n",
       "    <tr>\n",
       "      <th>count</th>\n",
       "      <td>3854.000000</td>\n",
       "      <td>3.854000e+03</td>\n",
       "      <td>3.854000e+03</td>\n",
       "      <td>3854.000000</td>\n",
       "      <td>3854.000000</td>\n",
       "    </tr>\n",
       "    <tr>\n",
       "      <th>mean</th>\n",
       "      <td>1.191554</td>\n",
       "      <td>3.720370e+07</td>\n",
       "      <td>1.076866e+08</td>\n",
       "      <td>109.220291</td>\n",
       "      <td>6.168163</td>\n",
       "    </tr>\n",
       "    <tr>\n",
       "      <th>std</th>\n",
       "      <td>1.475162</td>\n",
       "      <td>4.220822e+07</td>\n",
       "      <td>1.765393e+08</td>\n",
       "      <td>19.922820</td>\n",
       "      <td>0.794920</td>\n",
       "    </tr>\n",
       "    <tr>\n",
       "      <th>min</th>\n",
       "      <td>0.001117</td>\n",
       "      <td>1.000000e+00</td>\n",
       "      <td>2.000000e+00</td>\n",
       "      <td>15.000000</td>\n",
       "      <td>2.200000</td>\n",
       "    </tr>\n",
       "    <tr>\n",
       "      <th>25%</th>\n",
       "      <td>0.462367</td>\n",
       "      <td>1.000000e+07</td>\n",
       "      <td>1.360003e+07</td>\n",
       "      <td>95.000000</td>\n",
       "      <td>5.700000</td>\n",
       "    </tr>\n",
       "    <tr>\n",
       "      <th>50%</th>\n",
       "      <td>0.797511</td>\n",
       "      <td>2.400000e+07</td>\n",
       "      <td>4.480000e+07</td>\n",
       "      <td>106.000000</td>\n",
       "      <td>6.200000</td>\n",
       "    </tr>\n",
       "    <tr>\n",
       "      <th>75%</th>\n",
       "      <td>1.368324</td>\n",
       "      <td>5.000000e+07</td>\n",
       "      <td>1.242125e+08</td>\n",
       "      <td>119.000000</td>\n",
       "      <td>6.700000</td>\n",
       "    </tr>\n",
       "    <tr>\n",
       "      <th>max</th>\n",
       "      <td>32.985763</td>\n",
       "      <td>4.250000e+08</td>\n",
       "      <td>2.781506e+09</td>\n",
       "      <td>338.000000</td>\n",
       "      <td>8.400000</td>\n",
       "    </tr>\n",
       "  </tbody>\n",
       "</table>\n",
       "</div>"
      ],
      "text/plain": [
       "        popularity        budget       revenue      runtime  vote_average\n",
       "count  3854.000000  3.854000e+03  3.854000e+03  3854.000000   3854.000000\n",
       "mean      1.191554  3.720370e+07  1.076866e+08   109.220291      6.168163\n",
       "std       1.475162  4.220822e+07  1.765393e+08    19.922820      0.794920\n",
       "min       0.001117  1.000000e+00  2.000000e+00    15.000000      2.200000\n",
       "25%       0.462367  1.000000e+07  1.360003e+07    95.000000      5.700000\n",
       "50%       0.797511  2.400000e+07  4.480000e+07   106.000000      6.200000\n",
       "75%       1.368324  5.000000e+07  1.242125e+08   119.000000      6.700000\n",
       "max      32.985763  4.250000e+08  2.781506e+09   338.000000      8.400000"
      ]
     },
     "execution_count": 23,
     "metadata": {},
     "output_type": "execute_result"
    }
   ],
   "source": [
    "df_drp.describe()"
   ]
  },
  {
   "cell_type": "markdown",
   "id": "fde7076a",
   "metadata": {},
   "source": [
    "> I want to calculate the profit of each movie so I add a column to hold the results"
   ]
  },
  {
   "cell_type": "code",
   "execution_count": 24,
   "id": "b5eb3aab",
   "metadata": {},
   "outputs": [
    {
     "data": {
      "text/html": [
       "<div>\n",
       "<style scoped>\n",
       "    .dataframe tbody tr th:only-of-type {\n",
       "        vertical-align: middle;\n",
       "    }\n",
       "\n",
       "    .dataframe tbody tr th {\n",
       "        vertical-align: top;\n",
       "    }\n",
       "\n",
       "    .dataframe thead th {\n",
       "        text-align: right;\n",
       "    }\n",
       "</style>\n",
       "<table border=\"1\" class=\"dataframe\">\n",
       "  <thead>\n",
       "    <tr style=\"text-align: right;\">\n",
       "      <th></th>\n",
       "      <th>popularity</th>\n",
       "      <th>budget</th>\n",
       "      <th>revenue</th>\n",
       "      <th>original_title</th>\n",
       "      <th>runtime</th>\n",
       "      <th>vote_average</th>\n",
       "      <th>genre</th>\n",
       "      <th>profit</th>\n",
       "    </tr>\n",
       "  </thead>\n",
       "  <tbody>\n",
       "    <tr>\n",
       "      <th>0</th>\n",
       "      <td>32.985763</td>\n",
       "      <td>150000000.0</td>\n",
       "      <td>1.513529e+09</td>\n",
       "      <td>Jurassic World</td>\n",
       "      <td>124.0</td>\n",
       "      <td>6.5</td>\n",
       "      <td>Action</td>\n",
       "      <td>1.363529e+09</td>\n",
       "    </tr>\n",
       "    <tr>\n",
       "      <th>1</th>\n",
       "      <td>28.419936</td>\n",
       "      <td>150000000.0</td>\n",
       "      <td>3.784364e+08</td>\n",
       "      <td>Mad Max: Fury Road</td>\n",
       "      <td>120.0</td>\n",
       "      <td>7.1</td>\n",
       "      <td>Action</td>\n",
       "      <td>2.284364e+08</td>\n",
       "    </tr>\n",
       "    <tr>\n",
       "      <th>2</th>\n",
       "      <td>13.112507</td>\n",
       "      <td>110000000.0</td>\n",
       "      <td>2.952382e+08</td>\n",
       "      <td>Insurgent</td>\n",
       "      <td>119.0</td>\n",
       "      <td>6.3</td>\n",
       "      <td>Adventure</td>\n",
       "      <td>1.852382e+08</td>\n",
       "    </tr>\n",
       "    <tr>\n",
       "      <th>3</th>\n",
       "      <td>11.173104</td>\n",
       "      <td>200000000.0</td>\n",
       "      <td>2.068178e+09</td>\n",
       "      <td>Star Wars: The Force Awakens</td>\n",
       "      <td>136.0</td>\n",
       "      <td>7.5</td>\n",
       "      <td>Action</td>\n",
       "      <td>1.868178e+09</td>\n",
       "    </tr>\n",
       "    <tr>\n",
       "      <th>4</th>\n",
       "      <td>9.335014</td>\n",
       "      <td>190000000.0</td>\n",
       "      <td>1.506249e+09</td>\n",
       "      <td>Furious 7</td>\n",
       "      <td>137.0</td>\n",
       "      <td>7.3</td>\n",
       "      <td>Action</td>\n",
       "      <td>1.316249e+09</td>\n",
       "    </tr>\n",
       "  </tbody>\n",
       "</table>\n",
       "</div>"
      ],
      "text/plain": [
       "   popularity       budget       revenue                original_title  \\\n",
       "0   32.985763  150000000.0  1.513529e+09                Jurassic World   \n",
       "1   28.419936  150000000.0  3.784364e+08            Mad Max: Fury Road   \n",
       "2   13.112507  110000000.0  2.952382e+08                     Insurgent   \n",
       "3   11.173104  200000000.0  2.068178e+09  Star Wars: The Force Awakens   \n",
       "4    9.335014  190000000.0  1.506249e+09                     Furious 7   \n",
       "\n",
       "   runtime  vote_average      genre        profit  \n",
       "0    124.0           6.5     Action  1.363529e+09  \n",
       "1    120.0           7.1     Action  2.284364e+08  \n",
       "2    119.0           6.3  Adventure  1.852382e+08  \n",
       "3    136.0           7.5     Action  1.868178e+09  \n",
       "4    137.0           7.3     Action  1.316249e+09  "
      ]
     },
     "execution_count": 24,
     "metadata": {},
     "output_type": "execute_result"
    }
   ],
   "source": [
    "# Add column that calculate the profit of each movie\n",
    "df_drp['profit'] = df_drp['revenue'] - df_drp['budget']\n",
    "df_drp.head()"
   ]
  },
  {
   "cell_type": "markdown",
   "id": "01c31db5",
   "metadata": {},
   "source": [
    "> Sort the profit ascending to know the top 10 movies who have highest profit"
   ]
  },
  {
   "cell_type": "code",
   "execution_count": 25,
   "id": "2a0af5c6",
   "metadata": {},
   "outputs": [
    {
     "data": {
      "text/html": [
       "<div>\n",
       "<style scoped>\n",
       "    .dataframe tbody tr th:only-of-type {\n",
       "        vertical-align: middle;\n",
       "    }\n",
       "\n",
       "    .dataframe tbody tr th {\n",
       "        vertical-align: top;\n",
       "    }\n",
       "\n",
       "    .dataframe thead th {\n",
       "        text-align: right;\n",
       "    }\n",
       "</style>\n",
       "<table border=\"1\" class=\"dataframe\">\n",
       "  <thead>\n",
       "    <tr style=\"text-align: right;\">\n",
       "      <th></th>\n",
       "      <th>popularity</th>\n",
       "      <th>budget</th>\n",
       "      <th>revenue</th>\n",
       "      <th>original_title</th>\n",
       "      <th>runtime</th>\n",
       "      <th>vote_average</th>\n",
       "      <th>genre</th>\n",
       "      <th>profit</th>\n",
       "    </tr>\n",
       "  </thead>\n",
       "  <tbody>\n",
       "    <tr>\n",
       "      <th>344</th>\n",
       "      <td>9.432768</td>\n",
       "      <td>237000000.0</td>\n",
       "      <td>2.781506e+09</td>\n",
       "      <td>Avatar</td>\n",
       "      <td>162.0</td>\n",
       "      <td>7.1</td>\n",
       "      <td>Action</td>\n",
       "      <td>2.544506e+09</td>\n",
       "    </tr>\n",
       "    <tr>\n",
       "      <th>3</th>\n",
       "      <td>11.173104</td>\n",
       "      <td>200000000.0</td>\n",
       "      <td>2.068178e+09</td>\n",
       "      <td>Star Wars: The Force Awakens</td>\n",
       "      <td>136.0</td>\n",
       "      <td>7.5</td>\n",
       "      <td>Action</td>\n",
       "      <td>1.868178e+09</td>\n",
       "    </tr>\n",
       "    <tr>\n",
       "      <th>1767</th>\n",
       "      <td>4.355219</td>\n",
       "      <td>200000000.0</td>\n",
       "      <td>1.845034e+09</td>\n",
       "      <td>Titanic</td>\n",
       "      <td>194.0</td>\n",
       "      <td>7.3</td>\n",
       "      <td>Drama</td>\n",
       "      <td>1.645034e+09</td>\n",
       "    </tr>\n",
       "    <tr>\n",
       "      <th>0</th>\n",
       "      <td>32.985763</td>\n",
       "      <td>150000000.0</td>\n",
       "      <td>1.513529e+09</td>\n",
       "      <td>Jurassic World</td>\n",
       "      <td>124.0</td>\n",
       "      <td>6.5</td>\n",
       "      <td>Action</td>\n",
       "      <td>1.363529e+09</td>\n",
       "    </tr>\n",
       "    <tr>\n",
       "      <th>4</th>\n",
       "      <td>9.335014</td>\n",
       "      <td>190000000.0</td>\n",
       "      <td>1.506249e+09</td>\n",
       "      <td>Furious 7</td>\n",
       "      <td>137.0</td>\n",
       "      <td>7.3</td>\n",
       "      <td>Action</td>\n",
       "      <td>1.316249e+09</td>\n",
       "    </tr>\n",
       "    <tr>\n",
       "      <th>...</th>\n",
       "      <td>...</td>\n",
       "      <td>...</td>\n",
       "      <td>...</td>\n",
       "      <td>...</td>\n",
       "      <td>...</td>\n",
       "      <td>...</td>\n",
       "      <td>...</td>\n",
       "      <td>...</td>\n",
       "    </tr>\n",
       "    <tr>\n",
       "      <th>1667</th>\n",
       "      <td>1.653031</td>\n",
       "      <td>100000000.0</td>\n",
       "      <td>2.500000e+02</td>\n",
       "      <td>Brother Bear</td>\n",
       "      <td>85.0</td>\n",
       "      <td>6.8</td>\n",
       "      <td>Animation</td>\n",
       "      <td>-9.999975e+07</td>\n",
       "    </tr>\n",
       "    <tr>\n",
       "      <th>1196</th>\n",
       "      <td>0.921653</td>\n",
       "      <td>150000000.0</td>\n",
       "      <td>3.899276e+07</td>\n",
       "      <td>Mars Needs Moms</td>\n",
       "      <td>88.0</td>\n",
       "      <td>5.5</td>\n",
       "      <td>Adventure</td>\n",
       "      <td>-1.110072e+08</td>\n",
       "    </tr>\n",
       "    <tr>\n",
       "      <th>2472</th>\n",
       "      <td>0.948560</td>\n",
       "      <td>145000000.0</td>\n",
       "      <td>2.581996e+07</td>\n",
       "      <td>The Alamo</td>\n",
       "      <td>137.0</td>\n",
       "      <td>5.9</td>\n",
       "      <td>Western</td>\n",
       "      <td>-1.191800e+08</td>\n",
       "    </tr>\n",
       "    <tr>\n",
       "      <th>1931</th>\n",
       "      <td>1.214510</td>\n",
       "      <td>255000000.0</td>\n",
       "      <td>8.928991e+07</td>\n",
       "      <td>The Lone Ranger</td>\n",
       "      <td>149.0</td>\n",
       "      <td>6.0</td>\n",
       "      <td>Action</td>\n",
       "      <td>-1.657101e+08</td>\n",
       "    </tr>\n",
       "    <tr>\n",
       "      <th>682</th>\n",
       "      <td>0.250540</td>\n",
       "      <td>425000000.0</td>\n",
       "      <td>1.108757e+07</td>\n",
       "      <td>The Warrior's Way</td>\n",
       "      <td>100.0</td>\n",
       "      <td>6.4</td>\n",
       "      <td>Adventure</td>\n",
       "      <td>-4.139124e+08</td>\n",
       "    </tr>\n",
       "  </tbody>\n",
       "</table>\n",
       "<p>3854 rows × 8 columns</p>\n",
       "</div>"
      ],
      "text/plain": [
       "      popularity       budget       revenue                original_title  \\\n",
       "344     9.432768  237000000.0  2.781506e+09                        Avatar   \n",
       "3      11.173104  200000000.0  2.068178e+09  Star Wars: The Force Awakens   \n",
       "1767    4.355219  200000000.0  1.845034e+09                       Titanic   \n",
       "0      32.985763  150000000.0  1.513529e+09                Jurassic World   \n",
       "4       9.335014  190000000.0  1.506249e+09                     Furious 7   \n",
       "...          ...          ...           ...                           ...   \n",
       "1667    1.653031  100000000.0  2.500000e+02                  Brother Bear   \n",
       "1196    0.921653  150000000.0  3.899276e+07               Mars Needs Moms   \n",
       "2472    0.948560  145000000.0  2.581996e+07                     The Alamo   \n",
       "1931    1.214510  255000000.0  8.928991e+07               The Lone Ranger   \n",
       "682     0.250540  425000000.0  1.108757e+07             The Warrior's Way   \n",
       "\n",
       "      runtime  vote_average      genre        profit  \n",
       "344     162.0           7.1     Action  2.544506e+09  \n",
       "3       136.0           7.5     Action  1.868178e+09  \n",
       "1767    194.0           7.3      Drama  1.645034e+09  \n",
       "0       124.0           6.5     Action  1.363529e+09  \n",
       "4       137.0           7.3     Action  1.316249e+09  \n",
       "...       ...           ...        ...           ...  \n",
       "1667     85.0           6.8  Animation -9.999975e+07  \n",
       "1196     88.0           5.5  Adventure -1.110072e+08  \n",
       "2472    137.0           5.9    Western -1.191800e+08  \n",
       "1931    149.0           6.0     Action -1.657101e+08  \n",
       "682     100.0           6.4  Adventure -4.139124e+08  \n",
       "\n",
       "[3854 rows x 8 columns]"
      ]
     },
     "execution_count": 25,
     "metadata": {},
     "output_type": "execute_result"
    }
   ],
   "source": [
    "# Sort ascending profits\n",
    "top_profit=df_drp.sort_values(['profit'], ascending=False)\n",
    "top_profit"
   ]
  },
  {
   "cell_type": "code",
   "execution_count": 26,
   "id": "26620106",
   "metadata": {},
   "outputs": [
    {
     "data": {
      "text/html": [
       "<div>\n",
       "<style scoped>\n",
       "    .dataframe tbody tr th:only-of-type {\n",
       "        vertical-align: middle;\n",
       "    }\n",
       "\n",
       "    .dataframe tbody tr th {\n",
       "        vertical-align: top;\n",
       "    }\n",
       "\n",
       "    .dataframe thead th {\n",
       "        text-align: right;\n",
       "    }\n",
       "</style>\n",
       "<table border=\"1\" class=\"dataframe\">\n",
       "  <thead>\n",
       "    <tr style=\"text-align: right;\">\n",
       "      <th></th>\n",
       "      <th>original_title</th>\n",
       "      <th>profit</th>\n",
       "    </tr>\n",
       "  </thead>\n",
       "  <tbody>\n",
       "    <tr>\n",
       "      <th>344</th>\n",
       "      <td>Avatar</td>\n",
       "      <td>2.544506e+09</td>\n",
       "    </tr>\n",
       "    <tr>\n",
       "      <th>3</th>\n",
       "      <td>Star Wars: The Force Awakens</td>\n",
       "      <td>1.868178e+09</td>\n",
       "    </tr>\n",
       "    <tr>\n",
       "      <th>1767</th>\n",
       "      <td>Titanic</td>\n",
       "      <td>1.645034e+09</td>\n",
       "    </tr>\n",
       "    <tr>\n",
       "      <th>0</th>\n",
       "      <td>Jurassic World</td>\n",
       "      <td>1.363529e+09</td>\n",
       "    </tr>\n",
       "    <tr>\n",
       "      <th>4</th>\n",
       "      <td>Furious 7</td>\n",
       "      <td>1.316249e+09</td>\n",
       "    </tr>\n",
       "    <tr>\n",
       "      <th>1488</th>\n",
       "      <td>The Avengers</td>\n",
       "      <td>1.299558e+09</td>\n",
       "    </tr>\n",
       "    <tr>\n",
       "      <th>1102</th>\n",
       "      <td>Harry Potter and the Deathly Hallows: Part 2</td>\n",
       "      <td>1.202818e+09</td>\n",
       "    </tr>\n",
       "    <tr>\n",
       "      <th>14</th>\n",
       "      <td>Avengers: Age of Ultron</td>\n",
       "      <td>1.125036e+09</td>\n",
       "    </tr>\n",
       "    <tr>\n",
       "      <th>1857</th>\n",
       "      <td>Frozen</td>\n",
       "      <td>1.124219e+09</td>\n",
       "    </tr>\n",
       "    <tr>\n",
       "      <th>2866</th>\n",
       "      <td>The Net</td>\n",
       "      <td>1.084280e+09</td>\n",
       "    </tr>\n",
       "  </tbody>\n",
       "</table>\n",
       "</div>"
      ],
      "text/plain": [
       "                                    original_title        profit\n",
       "344                                         Avatar  2.544506e+09\n",
       "3                     Star Wars: The Force Awakens  1.868178e+09\n",
       "1767                                       Titanic  1.645034e+09\n",
       "0                                   Jurassic World  1.363529e+09\n",
       "4                                        Furious 7  1.316249e+09\n",
       "1488                                  The Avengers  1.299558e+09\n",
       "1102  Harry Potter and the Deathly Hallows: Part 2  1.202818e+09\n",
       "14                         Avengers: Age of Ultron  1.125036e+09\n",
       "1857                                        Frozen  1.124219e+09\n",
       "2866                                       The Net  1.084280e+09"
      ]
     },
     "execution_count": 26,
     "metadata": {},
     "output_type": "execute_result"
    }
   ],
   "source": [
    "#check top 10\n",
    "top_profit[['original_title', 'profit']].head(10)"
   ]
  },
  {
   "cell_type": "code",
   "execution_count": 27,
   "id": "636e9007",
   "metadata": {},
   "outputs": [
    {
     "data": {
      "image/png": "[encoded data removed]",
      "text/plain": [
       "<Figure size 720x360 with 1 Axes>"
      ]
     },
     "metadata": {
      "needs_background": "light"
     },
     "output_type": "display_data"
    }
   ],
   "source": [
    "#plot top 10 profit\n",
    "prof = top_profit['original_title'].iloc[:10].value_counts()\n",
    "prof.plot(\n",
    "   title='The most type of films produced',\n",
    "    kind='bar',\n",
    "    color='blue',\n",
    "    xlabel='original_title',\n",
    "    ylabel='profit',\n",
    "    legend='original_title',\n",
    "    figsize = (10,5)\n",
    ");"
   ]
  },
  {
   "cell_type": "markdown",
   "id": "a61e12d5",
   "metadata": {},
   "source": [
    "# Answer Question2:\n",
    "<h1>The top 10 highest profit movies are: </h1>\n",
    "<ol>\n",
    "    <li>Avatar: <b>2.544506e+09</b> </li>\n",
    "<li>Star Wars: The Force Awakens:\t<b>1.868178e+09</b></li>\n",
    "<li>Titanic:\t<b>1.645034e+09</b></li>\n",
    "<li>Jurassic World\t<b>1.363529e+09</b></li>\n",
    "<li>Furious 7\t<b>1.316249e+09</b></li>\n",
    "<li>The Avengers\t<b>1.299558e+09</b></li>\n",
    "<li>Harry Potter and the Deathly Hallows: Part 2\t<b>1.202818e+09</b></li>\n",
    "<li>Avengers: Age of Ultron\t<b>1.125036e+09</b></li>\n",
    "<li>Frozen\t<b>1.124219e+09</b></li>\n",
    "    <li>The Net\t<b>1.084280e+09</b></li>\n",
    "</ol>"
   ]
  },
  {
   "cell_type": "markdown",
   "id": "4e76fb0d",
   "metadata": {},
   "source": [
    "<a href='#top'>Go to Top of page ^ </a>"
   ]
  },
  {
   "cell_type": "markdown",
   "id": "cae79801",
   "metadata": {},
   "source": [
    "<h1><a id='q3'>Question3: What are the movies that got the most votes average?</a></h1>"
   ]
  },
  {
   "cell_type": "markdown",
   "id": "4c438935",
   "metadata": {},
   "source": [
    "> sort data with ascending 'vote_average'"
   ]
  },
  {
   "cell_type": "code",
   "execution_count": 28,
   "id": "7cd344c5",
   "metadata": {
    "scrolled": true
   },
   "outputs": [],
   "source": [
    "#top vote\n",
    "top_vote=df.sort_values(['vote_average'], ascending=False)"
   ]
  },
  {
   "cell_type": "code",
   "execution_count": 29,
   "id": "5901b5d7",
   "metadata": {},
   "outputs": [
    {
     "data": {
      "text/html": [
       "<div>\n",
       "<style scoped>\n",
       "    .dataframe tbody tr th:only-of-type {\n",
       "        vertical-align: middle;\n",
       "    }\n",
       "\n",
       "    .dataframe tbody tr th {\n",
       "        vertical-align: top;\n",
       "    }\n",
       "\n",
       "    .dataframe thead th {\n",
       "        text-align: right;\n",
       "    }\n",
       "</style>\n",
       "<table border=\"1\" class=\"dataframe\">\n",
       "  <thead>\n",
       "    <tr style=\"text-align: right;\">\n",
       "      <th></th>\n",
       "      <th>original_title</th>\n",
       "      <th>vote_average</th>\n",
       "      <th>runtime</th>\n",
       "      <th>popularity</th>\n",
       "    </tr>\n",
       "  </thead>\n",
       "  <tbody>\n",
       "    <tr>\n",
       "      <th>3894</th>\n",
       "      <td>The Story of Film: An Odyssey</td>\n",
       "      <td>9.2</td>\n",
       "      <td>900.0</td>\n",
       "      <td>0.006925</td>\n",
       "    </tr>\n",
       "    <tr>\n",
       "      <th>538</th>\n",
       "      <td>The Mask You Live In</td>\n",
       "      <td>8.9</td>\n",
       "      <td>88.0</td>\n",
       "      <td>0.114264</td>\n",
       "    </tr>\n",
       "    <tr>\n",
       "      <th>2269</th>\n",
       "      <td>Life Cycles</td>\n",
       "      <td>8.8</td>\n",
       "      <td>47.0</td>\n",
       "      <td>0.222293</td>\n",
       "    </tr>\n",
       "    <tr>\n",
       "      <th>1200</th>\n",
       "      <td>Black Mirror: White Christmas</td>\n",
       "      <td>8.8</td>\n",
       "      <td>74.0</td>\n",
       "      <td>0.129531</td>\n",
       "    </tr>\n",
       "    <tr>\n",
       "      <th>6911</th>\n",
       "      <td>Pink Floyd: Pulse</td>\n",
       "      <td>8.7</td>\n",
       "      <td>145.0</td>\n",
       "      <td>0.212010</td>\n",
       "    </tr>\n",
       "    <tr>\n",
       "      <th>2401</th>\n",
       "      <td>Opeth: In Live Concert At The Royal Albert Hall</td>\n",
       "      <td>8.6</td>\n",
       "      <td>163.0</td>\n",
       "      <td>0.067753</td>\n",
       "    </tr>\n",
       "    <tr>\n",
       "      <th>8221</th>\n",
       "      <td>A Personal Journey with Martin Scorsese Throug...</td>\n",
       "      <td>8.5</td>\n",
       "      <td>225.0</td>\n",
       "      <td>0.194889</td>\n",
       "    </tr>\n",
       "    <tr>\n",
       "      <th>8839</th>\n",
       "      <td>Dave Chappelle: Killin' Them Softly</td>\n",
       "      <td>8.5</td>\n",
       "      <td>57.0</td>\n",
       "      <td>0.157001</td>\n",
       "    </tr>\n",
       "    <tr>\n",
       "      <th>3690</th>\n",
       "      <td>The Art of Flight</td>\n",
       "      <td>8.5</td>\n",
       "      <td>80.0</td>\n",
       "      <td>0.321341</td>\n",
       "    </tr>\n",
       "    <tr>\n",
       "      <th>8411</th>\n",
       "      <td>Queen - Rock Montreal</td>\n",
       "      <td>8.5</td>\n",
       "      <td>138.0</td>\n",
       "      <td>0.302908</td>\n",
       "    </tr>\n",
       "  </tbody>\n",
       "</table>\n",
       "</div>"
      ],
      "text/plain": [
       "                                         original_title  vote_average  \\\n",
       "3894                      The Story of Film: An Odyssey           9.2   \n",
       "538                                The Mask You Live In           8.9   \n",
       "2269                                        Life Cycles           8.8   \n",
       "1200                      Black Mirror: White Christmas           8.8   \n",
       "6911                                  Pink Floyd: Pulse           8.7   \n",
       "2401    Opeth: In Live Concert At The Royal Albert Hall           8.6   \n",
       "8221  A Personal Journey with Martin Scorsese Throug...           8.5   \n",
       "8839                Dave Chappelle: Killin' Them Softly           8.5   \n",
       "3690                                  The Art of Flight           8.5   \n",
       "8411                              Queen - Rock Montreal           8.5   \n",
       "\n",
       "      runtime  popularity  \n",
       "3894    900.0    0.006925  \n",
       "538      88.0    0.114264  \n",
       "2269     47.0    0.222293  \n",
       "1200     74.0    0.129531  \n",
       "6911    145.0    0.212010  \n",
       "2401    163.0    0.067753  \n",
       "8221    225.0    0.194889  \n",
       "8839     57.0    0.157001  \n",
       "3690     80.0    0.321341  \n",
       "8411    138.0    0.302908  "
      ]
     },
     "execution_count": 29,
     "metadata": {},
     "output_type": "execute_result"
    }
   ],
   "source": [
    "#explore top vote data\n",
    "top_vote[['original_title','vote_average', 'runtime', 'popularity']].head(10)"
   ]
  },
  {
   "cell_type": "code",
   "execution_count": 30,
   "id": "e24aae35",
   "metadata": {},
   "outputs": [
    {
     "data": {
      "image/png": "[encoded data removed]",
      "text/plain": [
       "<Figure size 720x360 with 1 Axes>"
      ]
     },
     "metadata": {
      "needs_background": "light"
     },
     "output_type": "display_data"
    }
   ],
   "source": [
    "#plot the top 10 highest vote_average\n",
    "top_vote.iloc[0:11].plot(\n",
    "    x='original_title',\n",
    "    y='vote_average',\n",
    "    kind = 'bar',\n",
    "    title='The highest vote_average',\n",
    "    color= '#4d0000',\n",
    "    xlabel='original_title',\n",
    "    ylabel='vote_average',\n",
    "    figsize = (10,5)\n",
    "    \n",
    ");"
   ]
  },
  {
   "cell_type": "markdown",
   "id": "3431a60a",
   "metadata": {},
   "source": [
    "# Answer Question3: Top 10 vote average movies:\n",
    "1- Pink Floyd: Pulse\n",
    "\n",
    "    release_year: 2006\n",
    "    vote_average: 8.7\n",
    "2- Queen - Rock Montreal\n",
    "\n",
    "    release_year: 1981\n",
    "    vote_average: 8.5\t\n",
    "3- A Personal Journey with Martin Scorsese Throug...\n",
    "\n",
    "    release_year: 1995\n",
    "    vote_average: 8.5\t\n",
    "4- The Art of Flight\n",
    "\n",
    "    release_year: 2011\n",
    "    vote_average: 8.5\t\n",
    "5- The Shawshank Redemption\t\n",
    "\n",
    "    release_year: 1994\n",
    "    vote_average: 8.4\n",
    "6- The Jinx: The Life and Deaths of Robert Durst\n",
    "\n",
    "    release_year: 2015\n",
    "    vote_average: 8.4\t\n",
    "7- Guten Tag, RamÃ³n\n",
    "\n",
    "    release_year: 2013\n",
    "    vote_average: 8.4\t\n",
    "8- Stop Making Sense\n",
    "\n",
    "    release_year: 1984\n",
    "    vote_average: 8.4\t\n",
    "9- The Century of the Self\n",
    "\n",
    "    release_year: 2002\n",
    "    vote_average: 8.3\t\n",
    "10- Shoah\n",
    "\n",
    "    release_year: 1985\n",
    "    vote_average: 8.3\n"
   ]
  },
  {
   "cell_type": "markdown",
   "id": "55339444",
   "metadata": {},
   "source": [
    "<a href='#top'>Go to Top of page ^ </a>"
   ]
  },
  {
   "cell_type": "markdown",
   "id": "de8f3827",
   "metadata": {},
   "source": [
    "# Relationships\n",
    "\n",
    ">In this section I will searche about relationships between some data"
   ]
  },
  {
   "cell_type": "markdown",
   "id": "ae4abaff",
   "metadata": {},
   "source": [
    "> Here i defined two functions To avoid repetition"
   ]
  },
  {
   "cell_type": "code",
   "execution_count": 31,
   "id": "031177d9",
   "metadata": {},
   "outputs": [],
   "source": [
    "#define function to plot histogram\n",
    "def histplot(col,color,title):\n",
    "    plt.hist(\n",
    "    df_drp[col],\n",
    "    rwidth = 0.9,\n",
    "    bins =31,\n",
    "    color=color,\n",
    "    );\n",
    "    ax = plt.gca()\n",
    "\n",
    "    ax.set_title(title)"
   ]
  },
  {
   "cell_type": "markdown",
   "id": "a1315871",
   "metadata": {},
   "source": [
    "[scatter plot](https://www.sfu.ca/~mjbrydon/tutorials/BAinPy/08_correlation.html)"
   ]
  },
  {
   "cell_type": "code",
   "execution_count": 32,
   "id": "1c17a4db",
   "metadata": {},
   "outputs": [],
   "source": [
    "# define function to plot scatter\n",
    "def scatterVote(X,Y,Data,title):\n",
    "    sns.lmplot(\n",
    "    x=X,\n",
    "    y=Y,\n",
    "    data=Data,\n",
    "    #scatter_kws={'color': 'darkgreen'},\n",
    "    line_kws={'color': 'black'},\n",
    "    );\n",
    "    ax = plt.gca()\n",
    "\n",
    "    ax.set_title(title)\n",
    "\n",
    "    plt.show()"
   ]
  },
  {
   "cell_type": "markdown",
   "id": "1b14c500",
   "metadata": {},
   "source": [
    "<h1><a id='q4'>Question 4: Is there any relationship between vote average and runtime of movies?</a></h1>"
   ]
  },
  {
   "cell_type": "code",
   "execution_count": 33,
   "id": "cb97732b",
   "metadata": {},
   "outputs": [
    {
     "data": {
      "image/png": "[encoded data removed]",
      "text/plain": [
       "<Figure size 432x288 with 1 Axes>"
      ]
     },
     "metadata": {
      "needs_background": "light"
     },
     "output_type": "display_data"
    }
   ],
   "source": [
    "# plot Runtime\n",
    "histplot('runtime','red', 'Runtime');\n",
    "plt.xlabel('movies count');\n",
    "plt.ylabel('runtime');\n",
    "plt.legend('Runtime');"
   ]
  },
  {
   "cell_type": "markdown",
   "id": "aab12e34",
   "metadata": {},
   "source": [
    ">Here I use df_drp data when we droped all NaN value because I used runtime to compare"
   ]
  },
  {
   "cell_type": "code",
   "execution_count": 34,
   "id": "463dc50a",
   "metadata": {},
   "outputs": [
    {
     "data": {
      "image/png": "[encoded data removed]",
      "text/plain": [
       "<Figure size 360x360 with 1 Axes>"
      ]
     },
     "metadata": {
      "needs_background": "light"
     },
     "output_type": "display_data"
    }
   ],
   "source": [
    "scatterVote(\"vote_average\",\"runtime\",df_drp, \"relashionship between runtime and average\")"
   ]
  },
  {
   "cell_type": "markdown",
   "id": "687ddb00",
   "metadata": {},
   "source": [
    "# Answer Question4\n",
    "From the plots above there is a relationship between the hight vote average and runtime\n",
    "\n",
    "i.e. The higher the runtime, the higher the vote average"
   ]
  },
  {
   "cell_type": "markdown",
   "id": "54c220b3",
   "metadata": {},
   "source": [
    "<a href='#top'>Go to Top of page ^ </a>"
   ]
  },
  {
   "cell_type": "markdown",
   "id": "c59ff027",
   "metadata": {},
   "source": [
    "<h1><a id='q5'>Question 5: Is there any relation between popularity and runtime?</a></h1>"
   ]
  },
  {
   "cell_type": "markdown",
   "id": "91607aad",
   "metadata": {},
   "source": [
    "> Here I use df_drp data when we droped all NaN value because i used runtime to compare"
   ]
  },
  {
   "cell_type": "code",
   "execution_count": 35,
   "id": "b9faface",
   "metadata": {},
   "outputs": [
    {
     "data": {
      "image/png": "[encoded data removed]",
      "text/plain": [
       "<Figure size 360x360 with 1 Axes>"
      ]
     },
     "metadata": {
      "needs_background": "light"
     },
     "output_type": "display_data"
    }
   ],
   "source": [
    "scatterVote(\"runtime\",\"popularity\",df_drp, \"relation between popularity and runtime\")"
   ]
  },
  {
   "cell_type": "markdown",
   "id": "18e7766c",
   "metadata": {},
   "source": [
    "# Answer Question5: \n",
    "From the plots above there is a relationship between the hight vote average and runtime\n",
    "\n",
    "i.e. The higher the runtime, the higher the popularity"
   ]
  },
  {
   "cell_type": "markdown",
   "id": "4028eed2",
   "metadata": {},
   "source": [
    "<h1><a id='q6'> Question6 : Is there any relation between popularity and vote_avg?</a></h1>"
   ]
  },
  {
   "cell_type": "code",
   "execution_count": 36,
   "id": "b63bc72b",
   "metadata": {},
   "outputs": [
    {
     "data": {
      "image/png": "[encoded data removed]",
      "text/plain": [
       "<Figure size 432x288 with 1 Axes>"
      ]
     },
     "metadata": {
      "needs_background": "light"
     },
     "output_type": "display_data"
    }
   ],
   "source": [
    "#plot the popularity\n",
    "histplot('popularity','darkgreen', 'Popularity');\n",
    "plt.xlabel('movies count');\n",
    "plt.ylabel('popularity');\n",
    "plt.legend('popularity');"
   ]
  },
  {
   "cell_type": "markdown",
   "id": "ec421489",
   "metadata": {},
   "source": [
    "> here I used top_vote data because vote_average and popularity did not have NaN value"
   ]
  },
  {
   "cell_type": "code",
   "execution_count": 37,
   "id": "d1926f11",
   "metadata": {},
   "outputs": [
    {
     "data": {
      "image/png": "[encoded data removed]",
      "text/plain": [
       "<Figure size 360x360 with 1 Axes>"
      ]
     },
     "metadata": {
      "needs_background": "light"
     },
     "output_type": "display_data"
    }
   ],
   "source": [
    "scatterVote(\"vote_average\",\"popularity\",top_vote, \"relation between popularity and vote_avg\")"
   ]
  },
  {
   "cell_type": "markdown",
   "id": "57138251",
   "metadata": {},
   "source": [
    "# Answer Question 6\n",
    "From the plots above there is a relationship between the hight vote average and popularity\n",
    "\n",
    "i.e. The higher the popularity, the higher the vote average"
   ]
  },
  {
   "cell_type": "markdown",
   "id": "45e80dc7",
   "metadata": {},
   "source": [
    "<h1><a id='q7'> Question7: Is there any relation between budget and revenue?</a></h1>\n"
   ]
  },
  {
   "cell_type": "code",
   "execution_count": 38,
   "id": "68de5f8e",
   "metadata": {},
   "outputs": [
    {
     "data": {
      "text/plain": [
       "<matplotlib.legend.Legend at 0x7f8c54741b20>"
      ]
     },
     "execution_count": 38,
     "metadata": {},
     "output_type": "execute_result"
    },
    {
     "data": {
      "image/png": "[encoded data removed]",
      "text/plain": [
       "<Figure size 432x288 with 1 Axes>"
      ]
     },
     "metadata": {
      "needs_background": "light"
     },
     "output_type": "display_data"
    }
   ],
   "source": [
    "# plot Budget\n",
    "histplot('budget','blue', 'Budget')\n",
    "plt.xlabel('Budget'),\n",
    "plt.ylabel('movies count')\n",
    "plt.legend('Budget')"
   ]
  },
  {
   "cell_type": "markdown",
   "id": "70dc4f04",
   "metadata": {},
   "source": [
    ">Here I use df_drp data when we droped all NaN value because i used budget, revenue to compare"
   ]
  },
  {
   "cell_type": "code",
   "execution_count": 39,
   "id": "0024548f",
   "metadata": {
    "scrolled": true
   },
   "outputs": [
    {
     "data": {
      "image/png": "[encoded data removed]",
      "text/plain": [
       "<Figure size 360x360 with 1 Axes>"
      ]
     },
     "metadata": {
      "needs_background": "light"
     },
     "output_type": "display_data"
    }
   ],
   "source": [
    "scatterVote(\"budget\",\"revenue\",df_drp, \"relation between budget and revenue\")"
   ]
  },
  {
   "cell_type": "markdown",
   "id": "790d0d62",
   "metadata": {},
   "source": [
    "# Answer Question 7:\n",
    "\n",
    "This is a positive relationship. i.e. the more the budget the more revenue a movie makes\n"
   ]
  },
  {
   "cell_type": "markdown",
   "id": "823e33bf",
   "metadata": {},
   "source": [
    "<a href='#top'>Go to Top of page ^ </a>"
   ]
  },
  {
   "cell_type": "markdown",
   "id": "a7bc2033",
   "metadata": {},
   "source": [
    "<a id='conclusions'></a>\n",
    "## Conclusions\n",
    "\n",
    "As a conclusion \n",
    "\n",
    ">**first we found the top 10 type of films produced:**\n",
    "\n",
    "<ol>\n",
    "    <li>Drama</li><li>Comedy</li>  <li>Action</li> <li>Adventure</li> <li>Horror</li> <li>Crime</li> <li>Thriller</li> <li>Fantasy</li> <li>Animation</li> \n",
    "</ol>  \n",
    "\n",
    ">**Second The top 10 budget and highest profit films are:**\n",
    "<ol>\n",
    "    <li>Avatar: <b>2.544506e+09</b> </li>\n",
    "<li>Star Wars: The Force Awakens:\t<b>1.868178e+09</b></li>\n",
    "<li>Titanic:\t<b>1.645034e+09</b></li>\n",
    "<li>Jurassic World\t<b>1.363529e+09</b></li>\n",
    "<li>Furious 7\t<b>1.316249e+09</b></li>\n",
    "<li>The Avengers\t<b>1.299558e+09</b></li>\n",
    "<li>Harry Potter and the Deathly Hallows: Part 2\t<b>1.202818e+09</b></li>\n",
    "<li>Avengers: Age of Ultron\t<b>1.125036e+09</b></li>\n",
    "<li>Frozen\t<b>1.124219e+09</b></li>\n",
    "    <li>The Net\t<b>1.084280e+09</b></li>\n",
    "</ol>\n",
    "\n",
    "> **Third Top 10 vote average movies:**\n",
    "<ol>\n",
    "<li> Pink Floyd: Pulse</li>\n",
    "<li> Queen - Rock Montreal</li>\n",
    "<li> A Personal Journey with Martin Scorsese Throug...</li>\n",
    "<li> The Art of Flight\t</li>\n",
    "<li> The Shawshank Redemption\t</li>\n",
    "<li> The Jinx: The Life and Deaths of Robert Durst</li>\n",
    "<li> Guten Tag, RamÃ³n\t</li>\n",
    "<li> Stop Making Sense</li>\n",
    "<li> The Century of the Self</li>\n",
    "<li> Shoah</li>\n",
    "</ol>\n",
    "\n",
    "> **After that i searched about relationships between some data:**\n",
    "\n",
    "</ol>\n",
    "<li>between vote average and runtime of movies</li>\n",
    "<li>between popularity and runtime</li>\n",
    "<li>between popularity and vote_avg</li>\n",
    "<li>relation between budget and revenue</li>\n",
    "</ol>\n",
    "\n",
    ">**In all the comparisons above, in which I searched for relationships, I found A positive relationship, the higher the value of one of them, the higher the value of the second, depending on scatterplot to highlight the results**\n",
    "\n",
    "\n",
    "<h2>Limitations</h2>\n",
    "\n",
    "> There is a large group of movies that did not record the value of their budget, revenue, or even the runtime, which made it difficult to analyze all the data together, which caused me to drop them in the stage of searching for relationships.\n",
    "\n",
    "> In addition to the fact that this data is old, the last recording in it was in 2015. We suggest that there be serious updates to the data\n",
    " "
   ]
  },
  {
   "cell_type": "markdown",
   "id": "79f3cc10",
   "metadata": {},
   "source": [
    "<a href='#top'>Go to Top of page ^ </a>"
   ]
  },
  {
   "cell_type": "code",
   "execution_count": 40,
   "id": "bfcb17ce",
   "metadata": {},
   "outputs": [],
   "source": [
    "df.to_csv('df_movies_final.csv',index = False)"
   ]
  }
 ],
 "metadata": {
  "kernelspec": {
   "display_name": "Python 3 (ipykernel)",
   "language": "python",
   "name": "python3"
  },
  "language_info": {
   "codemirror_mode": {
    "name": "ipython",
    "version": 3
   },
   "file_extension": ".py",
   "mimetype": "text/x-python",
   "name": "python",
   "nbconvert_exporter": "python",
   "pygments_lexer": "ipython3",
   "version": "3.8.8"
  }
 },
 "nbformat": 4,
 "nbformat_minor": 5
}
